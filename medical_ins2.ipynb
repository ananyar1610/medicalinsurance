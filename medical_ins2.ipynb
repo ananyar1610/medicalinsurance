{
 "cells": [
  {
   "cell_type": "markdown",
   "id": "ed9c441a",
   "metadata": {},
   "source": []
  },
  {
   "cell_type": "code",
   "execution_count": null,
   "id": "823a01b8",
   "metadata": {},
   "outputs": [],
   "source": [
    "import seaborn as sns\n",
    "import matplotlib.pyplot as plt\n",
    "import joblib\n",
    "import numpy as np\n"
   ]
  },
  {
   "cell_type": "code",
   "execution_count": null,
   "id": "1ca42a76",
   "metadata": {},
   "outputs": [],
   "source": [
    "import pandas as pd\n",
    "df=pd.read_csv('D:\\GUVI2\\Data\\medical_insurance.csv')"
   ]
  },
  {
   "cell_type": "code",
   "execution_count": null,
   "id": "7510aa2b",
   "metadata": {},
   "outputs": [],
   "source": [
    "df.head()"
   ]
  },
  {
   "cell_type": "code",
   "execution_count": null,
   "id": "da672f36",
   "metadata": {},
   "outputs": [],
   "source": [
    "df.drop_duplicates(inplace=True)"
   ]
  },
  {
   "cell_type": "code",
   "execution_count": null,
   "id": "862310cc",
   "metadata": {},
   "outputs": [],
   "source": [
    "df.dropna(inplace=True)"
   ]
  },
  {
   "cell_type": "code",
   "execution_count": null,
   "id": "f4e97ad3",
   "metadata": {},
   "outputs": [],
   "source": [
    "df.isnull().sum()"
   ]
  },
  {
   "cell_type": "code",
   "execution_count": null,
   "id": "e5d46cda",
   "metadata": {},
   "outputs": [],
   "source": [
    "df.describe()"
   ]
  },
  {
   "cell_type": "code",
   "execution_count": null,
   "id": "136203ac",
   "metadata": {},
   "outputs": [],
   "source": [
    "df['sex'].value_counts()\n"
   ]
  },
  {
   "cell_type": "code",
   "execution_count": null,
   "id": "5408d74c",
   "metadata": {},
   "outputs": [],
   "source": []
  },
  {
   "cell_type": "markdown",
   "id": "a68d38f2",
   "metadata": {},
   "source": [
    "Univariate Analysis"
   ]
  },
  {
   "cell_type": "markdown",
   "id": "775f0daf",
   "metadata": {},
   "source": [
    "1. What is the distributions of medical insurance charges?"
   ]
  },
  {
   "cell_type": "code",
   "execution_count": null,
   "id": "e73d84cc",
   "metadata": {},
   "outputs": [],
   "source": [
    "#Univariate Analysis\n",
    "#Histplot\n",
    "plt.title('Charges Histplot')\n",
    "sns.histplot(x='charges', data=df)\n",
    "plt.show()"
   ]
  },
  {
   "cell_type": "markdown",
   "id": "422b8c42",
   "metadata": {},
   "source": [
    "2. What is the age distibution of the individuals?"
   ]
  },
  {
   "cell_type": "code",
   "execution_count": null,
   "id": "de4a2023",
   "metadata": {},
   "outputs": [],
   "source": [
    "#Age\n",
    "plt.title('Age Histplot')\n",
    "sns.histplot(x='age', data=df)\n",
    "plt.show()"
   ]
  },
  {
   "cell_type": "markdown",
   "id": "f1bd6913",
   "metadata": {},
   "source": [
    "3. Smokers v/s Non-smokers"
   ]
  },
  {
   "cell_type": "code",
   "execution_count": null,
   "id": "7ae28d38",
   "metadata": {},
   "outputs": [],
   "source": [
    "sns.countplot(x='smoker', data=df)\n",
    "plt.title('Snoekrs v/s Non-Smokers')\n",
    "plt.show()"
   ]
  },
  {
   "cell_type": "markdown",
   "id": "2c091be9",
   "metadata": {},
   "source": [
    "4. What is the avergae BMI in the dataset?"
   ]
  },
  {
   "cell_type": "code",
   "execution_count": null,
   "id": "d0e34640",
   "metadata": {},
   "outputs": [],
   "source": [
    "#BMI\n",
    "plt.title('BMI Histogram')\n",
    "sns.histplot(x='bmi', data=df)\n",
    "plt.show()\n"
   ]
  },
  {
   "cell_type": "markdown",
   "id": "f4dc8514",
   "metadata": {},
   "source": [
    "5. Which regions have the most number of policyholders?"
   ]
  },
  {
   "cell_type": "code",
   "execution_count": null,
   "id": "b76e347f",
   "metadata": {},
   "outputs": [],
   "source": [
    "sns.countplot(x='region', data=df)\n",
    "plt.title('Region with Most Number Of Policyholders')\n",
    "plt.show()"
   ]
  },
  {
   "cell_type": "markdown",
   "id": "33a75b5e",
   "metadata": {},
   "source": [
    "Bivariate Analysis"
   ]
  },
  {
   "cell_type": "markdown",
   "id": "3897f564",
   "metadata": {},
   "source": [
    "1. How do charges vary with age?"
   ]
  },
  {
   "cell_type": "code",
   "execution_count": null,
   "id": "7e316918",
   "metadata": {},
   "outputs": [],
   "source": [
    "sns.scatterplot(x='age',y='charges', data=df)\n",
    "plt.title('Charges v/s Age')\n",
    "plt.show()"
   ]
  },
  {
   "cell_type": "markdown",
   "id": "e6324c3c",
   "metadata": {},
   "source": [
    "2. Is there a difference in average charges between smokers and non-smokers?"
   ]
  },
  {
   "cell_type": "code",
   "execution_count": null,
   "id": "a7ca0ddd",
   "metadata": {},
   "outputs": [],
   "source": [
    "sns.barplot(x='smoker',y='charges', data=df)\n",
    "plt.show()"
   ]
  },
  {
   "cell_type": "markdown",
   "id": "66c0248d",
   "metadata": {},
   "source": [
    "3. Does BMI impact insurance charges?"
   ]
  },
  {
   "cell_type": "code",
   "execution_count": null,
   "id": "9abe4b86",
   "metadata": {},
   "outputs": [],
   "source": [
    "sns.scatterplot(x='bmi', y='charges', data=df)\n",
    "plt.show()"
   ]
  },
  {
   "cell_type": "markdown",
   "id": "7686a49e",
   "metadata": {},
   "source": [
    "4. Do men or women pay more on average?"
   ]
  },
  {
   "cell_type": "code",
   "execution_count": null,
   "id": "11a5332d",
   "metadata": {},
   "outputs": [],
   "source": [
    "sns.barplot(x='sex', y='charges', data=df)\n",
    "plt.show()"
   ]
  },
  {
   "cell_type": "markdown",
   "id": "2a510f26",
   "metadata": {},
   "source": [
    "5. Is there a correlation between the numebr of children and the insurance charges?"
   ]
  },
  {
   "cell_type": "code",
   "execution_count": null,
   "id": "31c7e33e",
   "metadata": {},
   "outputs": [],
   "source": [
    "sns.boxplot(x='children', y='charges', data=df)\n",
    "plt.show()"
   ]
  },
  {
   "cell_type": "markdown",
   "id": "d82e1ec1",
   "metadata": {},
   "source": [
    "Multivariate"
   ]
  },
  {
   "cell_type": "markdown",
   "id": "a9ebfad9",
   "metadata": {},
   "source": [
    "1. How does smoking status combined with age affect medical charges?"
   ]
  },
  {
   "cell_type": "code",
   "execution_count": null,
   "id": "60fd9615",
   "metadata": {},
   "outputs": [],
   "source": [
    "sns.scatterplot(x='age', y='charges', hue='smoker', data=df, palette='pastel')\n",
    "plt.show()"
   ]
  },
  {
   "cell_type": "markdown",
   "id": "b41d27b4",
   "metadata": {},
   "source": [
    "2. What is the impact of gender and region on charges for smokers?"
   ]
  },
  {
   "cell_type": "code",
   "execution_count": null,
   "id": "3230e27c",
   "metadata": {},
   "outputs": [],
   "source": [
    "g=sns.FacetGrid(df[df['smoker']=='yes'],row='sex',col='region')\n",
    "g.map_dataframe(sns.boxplot, x='sex', y='charges')"
   ]
  },
  {
   "cell_type": "markdown",
   "id": "3334506e",
   "metadata": {},
   "source": [
    "3. How do age, BMI, and smoking status together affect insurance cost?"
   ]
  },
  {
   "cell_type": "code",
   "execution_count": null,
   "id": "18b063fb",
   "metadata": {},
   "outputs": [],
   "source": [
    "sns.scatterplot(x='bmi', y='charges', hue='smoker', data=df)\n",
    "plt.show()"
   ]
  },
  {
   "cell_type": "markdown",
   "id": "ce367266",
   "metadata": {},
   "source": [
    "4. Do obese smokers (BMI > 30) pay significantly higher than non-obese non-smokers?"
   ]
  },
  {
   "cell_type": "code",
   "execution_count": null,
   "id": "4898d384",
   "metadata": {},
   "outputs": [],
   "source": [
    "df2=df.copy()\n",
    "df2['obese']=df2['bmi']>30\n",
    "df2['group']=df2['obese'].astype(str)+'_'+df2['smoker']\n",
    "sns.boxplot(x='group',y='charges',data=df2)\n",
    "plt.xlabel('BMI>30 & Smoker')\n",
    "plt.show()"
   ]
  },
  {
   "cell_type": "markdown",
   "id": "73bd1522",
   "metadata": {},
   "source": [
    "Outlier detection"
   ]
  },
  {
   "cell_type": "markdown",
   "id": "3bef692e",
   "metadata": {},
   "source": [
    "1.  Are there outliers in the charges column?\n"
   ]
  },
  {
   "cell_type": "code",
   "execution_count": null,
   "id": "7aa84eee",
   "metadata": {},
   "outputs": [],
   "source": [
    "sns.boxplot(y='charges', data=df)\n",
    "plt.show()"
   ]
  },
  {
   "cell_type": "markdown",
   "id": "378f6f8f",
   "metadata": {},
   "source": [
    "2. Are there extreme BMI values that could skew predictions?"
   ]
  },
  {
   "cell_type": "code",
   "execution_count": null,
   "id": "a3f92c90",
   "metadata": {},
   "outputs": [],
   "source": [
    "sns.boxplot(y='bmi', data=df)\n",
    "plt.show()"
   ]
  },
  {
   "cell_type": "markdown",
   "id": "b97a5432",
   "metadata": {},
   "source": [
    "Correlation Analysis"
   ]
  },
  {
   "cell_type": "markdown",
   "id": "d0c13dac",
   "metadata": {},
   "source": [
    "1. What is the correlation between numeric features and charges?"
   ]
  },
  {
   "cell_type": "code",
   "execution_count": null,
   "id": "fbed327e",
   "metadata": {},
   "outputs": [],
   "source": [
    "#Correlation heatmap\n",
    "import numpy as np\n",
    "plt.figure(figsize=(10,6))\n",
    "sns.heatmap(df.corr(numeric_only=True), annot=True, cmap='coolwarm', fmt='.2f')\n",
    "plt.title('Heatmap of Feature Correlation')\n",
    "plt.show()"
   ]
  },
  {
   "cell_type": "markdown",
   "id": "769a11ac",
   "metadata": {},
   "source": [
    "2. Which features have the strongest correlation with charges?"
   ]
  },
  {
   "cell_type": "code",
   "execution_count": null,
   "id": "873ba2c0",
   "metadata": {},
   "outputs": [],
   "source": [
    "corr_matrix=df.corr(numeric_only=True)\n",
    "print(corr_matrix['charges'].sort_values(ascending=False))"
   ]
  },
  {
   "cell_type": "markdown",
   "id": "506e8a5d",
   "metadata": {},
   "source": [
    "Encoding"
   ]
  },
  {
   "cell_type": "code",
   "execution_count": null,
   "id": "17fd9515",
   "metadata": {},
   "outputs": [],
   "source": [
    "df['sex']=df['sex'].map({'male':1,'female':0})\n",
    "df['smoker']=df['smoker'].map({'yes':1,'no':0})\n"
   ]
  },
  {
   "cell_type": "code",
   "execution_count": null,
   "id": "9342c3fc",
   "metadata": {},
   "outputs": [],
   "source": [
    "df['region'].dtype"
   ]
  },
  {
   "cell_type": "code",
   "execution_count": null,
   "id": "bb5923d5",
   "metadata": {},
   "outputs": [],
   "source": [
    "#One-hot encoding for nominal variables\n",
    "df=pd.get_dummies(df, columns=['region'], drop_first=True)"
   ]
  },
  {
   "cell_type": "code",
   "execution_count": null,
   "id": "05dc2fcf",
   "metadata": {},
   "outputs": [],
   "source": [
    "df=df.astype(int)"
   ]
  },
  {
   "cell_type": "code",
   "execution_count": null,
   "id": "c3ecca87",
   "metadata": {},
   "outputs": [],
   "source": [
    "print(df.dtypes)"
   ]
  },
  {
   "cell_type": "markdown",
   "id": "1cd27645",
   "metadata": {},
   "source": []
  },
  {
   "cell_type": "markdown",
   "id": "fb00a5d5",
   "metadata": {},
   "source": [
    "Regression Models"
   ]
  },
  {
   "cell_type": "code",
   "execution_count": null,
   "id": "0a4e0cac",
   "metadata": {},
   "outputs": [],
   "source": [
    "from sklearn.model_selection import train_test_split\n",
    "from sklearn.preprocessing import StandardScaler\n",
    "from sklearn.metrics import r2_score\n",
    "from sklearn.linear_model import LinearRegression, Ridge, Lasso\n"
   ]
  },
  {
   "cell_type": "code",
   "execution_count": null,
   "id": "5076e214",
   "metadata": {},
   "outputs": [],
   "source": [
    "#Defining target vector as 'y' and features as 'x'\n",
    "y=df['charges']\n",
    "x=df.drop(['charges'],axis=1)"
   ]
  },
  {
   "cell_type": "code",
   "execution_count": null,
   "id": "20011386",
   "metadata": {},
   "outputs": [],
   "source": [
    "x_train, x_test, y_train,y_test=train_test_split(x,y,test_size=0.2,random_state=42)"
   ]
  },
  {
   "cell_type": "code",
   "execution_count": null,
   "id": "cb28882e",
   "metadata": {},
   "outputs": [],
   "source": [
    "x_train.shape, x_test.shape, y_train.shape,y_test.shape"
   ]
  },
  {
   "cell_type": "code",
   "execution_count": null,
   "id": "60ea0f5c",
   "metadata": {},
   "outputs": [],
   "source": [
    "scaler=StandardScaler()\n",
    "x_train_scaled=scaler.fit_transform(x_train)\n",
    "x_test_scaled=scaler.transform(x_test)"
   ]
  },
  {
   "cell_type": "markdown",
   "id": "9c9f1f19",
   "metadata": {},
   "source": [
    "Linear regression"
   ]
  },
  {
   "cell_type": "code",
   "execution_count": null,
   "id": "56ca34d8",
   "metadata": {},
   "outputs": [],
   "source": [
    "model=LinearRegression()\n",
    "model.fit(x_train_scaled,y_train)\n",
    "lin_pred=model.predict(x_test_scaled)"
   ]
  },
  {
   "cell_type": "code",
   "execution_count": null,
   "id": "a4a0257d",
   "metadata": {},
   "outputs": [],
   "source": [
    "from sklearn.metrics import mean_squared_error\n",
    "from math import sqrt\n",
    "r2_lin=r2_score(y_test, lin_pred)\n",
    "mse_lin=mean_squared_error(y_test,lin_pred)\n",
    "rmse_lin=sqrt(mse_lin)\n",
    "print('MSE Score:', mse_lin)\n",
    "print('RMSE Score',rmse_lin)\n",
    "print('R2 Score:',r2_lin)\n",
    "\n"
   ]
  },
  {
   "cell_type": "markdown",
   "id": "df9ebe4a",
   "metadata": {},
   "source": [
    "KNN"
   ]
  },
  {
   "cell_type": "code",
   "execution_count": null,
   "id": "e6147cf2",
   "metadata": {},
   "outputs": [],
   "source": [
    "from sklearn.neighbors import KNeighborsRegressor\n",
    "knn=KNeighborsRegressor(n_neighbors=5)\n",
    "knn.fit(x_train_scaled,y_train)\n",
    "knn_pred=knn.predict(x_test_scaled)\n"
   ]
  },
  {
   "cell_type": "code",
   "execution_count": null,
   "id": "3d6657ed",
   "metadata": {},
   "outputs": [],
   "source": [
    "r2_knn=r2_score(y_test, knn_pred)\n",
    "mse_knn=mean_squared_error(y_test,knn_pred)\n",
    "rmse_knn=sqrt(mse_knn)\n",
    "print('MSE Score:', mse_knn)\n",
    "print('RMSE Score',rmse_knn)\n",
    "print('R2 Score:',r2_knn)\n"
   ]
  },
  {
   "cell_type": "markdown",
   "id": "e244405c",
   "metadata": {},
   "source": [
    "Decision tree Regressor"
   ]
  },
  {
   "cell_type": "code",
   "execution_count": null,
   "id": "4cb135b2",
   "metadata": {},
   "outputs": [],
   "source": [
    "from sklearn.tree import DecisionTreeRegressor\n",
    "dct=DecisionTreeRegressor(random_state=42)\n",
    "dct.fit(x_train_scaled,y_train)\n",
    "dct_pred=dct.predict(x_test_scaled)\n"
   ]
  },
  {
   "cell_type": "code",
   "execution_count": null,
   "id": "b7cc6509",
   "metadata": {},
   "outputs": [],
   "source": [
    "r2_dct=r2_score(y_test,dct_pred)\n",
    "mse_dct=mean_squared_error(y_test,dct_pred)\n",
    "rmse_dct=sqrt(mse_dct)\n",
    "print('MSE Score:', mse_dct)\n",
    "print('RMSE Score',rmse_dct)\n",
    "print('R2 Score:',r2_dct)"
   ]
  },
  {
   "cell_type": "markdown",
   "id": "199be330",
   "metadata": {},
   "source": [
    "Random Forest Regressor"
   ]
  },
  {
   "cell_type": "code",
   "execution_count": null,
   "id": "c1636fbc",
   "metadata": {},
   "outputs": [],
   "source": [
    "from sklearn.ensemble import RandomForestRegressor\n",
    "rf=RandomForestRegressor(random_state=42)\n",
    "rf.fit(x_train_scaled,y_train)\n",
    "rf_pred=rf.predict(x_test_scaled)\n"
   ]
  },
  {
   "cell_type": "code",
   "execution_count": null,
   "id": "00e7972a",
   "metadata": {},
   "outputs": [],
   "source": [
    "r2_rf=r2_score(y_test,rf_pred)\n",
    "mse_rf=mean_squared_error(y_test,rf_pred)\n",
    "rmse_rf=sqrt(mse_rf)\n",
    "print('MSE Score:', mse_rf)\n",
    "print('RMSE Score',rmse_rf)\n",
    "print('R2 Score:',r2_rf)\n"
   ]
  },
  {
   "cell_type": "code",
   "execution_count": null,
   "id": "b39baa31",
   "metadata": {},
   "outputs": [],
   "source": [
    "joblib.dump(rf, 'insurance_rf_model.pkl')"
   ]
  },
  {
   "cell_type": "markdown",
   "id": "3f199dc4",
   "metadata": {},
   "source": [
    "XGBoost Regressor"
   ]
  },
  {
   "cell_type": "code",
   "execution_count": null,
   "id": "cfea7d8f",
   "metadata": {},
   "outputs": [],
   "source": [
    "from xgboost import XGBRegressor\n",
    "xgr=XGBRegressor(random_state=42)\n",
    "xgr.fit(x_train_scaled,y_train)\n",
    "xgr_pred=xgr.predict(x_test_scaled)\n",
    "\n"
   ]
  },
  {
   "cell_type": "code",
   "execution_count": null,
   "id": "2c2058e0",
   "metadata": {},
   "outputs": [],
   "source": [
    "r2_xgr=r2_score(y_test,xgr_pred)\n",
    "mse_xgr=mean_squared_error(y_test,xgr_pred)\n",
    "rmse_xgr=sqrt(mse_xgr)\n",
    "print('MSE Score:', mse_xgr)\n",
    "print('RMSE Score',rmse_xgr)\n",
    "print('R2 Score:',r2_xgr)"
   ]
  },
  {
   "cell_type": "markdown",
   "id": "1632862c",
   "metadata": {},
   "source": [
    "LBGM Regressor"
   ]
  },
  {
   "cell_type": "code",
   "execution_count": null,
   "id": "b5cdab36",
   "metadata": {},
   "outputs": [],
   "source": [
    "from lightgbm import LGBMRegressor\n",
    "lgbmr=LGBMRegressor(random_state=42)\n",
    "lgbmr.fit(x_train_scaled,y_train)\n",
    "lgbmr_pred=lgbmr.predict(x_test_scaled)\n"
   ]
  },
  {
   "cell_type": "code",
   "execution_count": null,
   "id": "683a85f1",
   "metadata": {},
   "outputs": [],
   "source": [
    "r2_lgbmr=r2_score(y_test,lgbmr_pred)\n",
    "mse_lgbmr=mean_squared_error(y_test,lgbmr_pred)\n",
    "rmse_lgbmr=sqrt(mse_lgbmr)\n",
    "print('MSE Score:', mse_lgbmr)\n",
    "print('RMSE Score',rmse_lgbmr)\n",
    "print('R2 Score:',r2_lgbmr)\n"
   ]
  },
  {
   "cell_type": "markdown",
   "id": "5104be6b",
   "metadata": {},
   "source": [
    "CatBoost Regressor"
   ]
  },
  {
   "cell_type": "code",
   "execution_count": null,
   "id": "2f882659",
   "metadata": {},
   "outputs": [],
   "source": [
    "from catboost import CatBoostRegressor\n",
    "\n",
    "cbr=CatBoostRegressor(verbose=0,random_state=42)\n",
    "cbr.fit(x_train_scaled,y_train)\n",
    "cbr_pred=cbr.predict(x_test_scaled)\n",
    "\n"
   ]
  },
  {
   "cell_type": "code",
   "execution_count": null,
   "id": "19dd994e",
   "metadata": {},
   "outputs": [],
   "source": [
    "r2_cbr=r2_score(y_test,cbr_pred)\n",
    "mse_cbr=mean_squared_error(y_test,cbr_pred)\n",
    "rmse_cbr=sqrt(mse_cbr)\n",
    "print('MSE Score:', mse_cbr)\n",
    "print('RMSE Score',rmse_cbr)\n",
    "print('R2 Score:',r2_cbr)\n"
   ]
  },
  {
   "cell_type": "markdown",
   "id": "b6a88b75",
   "metadata": {},
   "source": [
    "ML Flow"
   ]
  },
  {
   "cell_type": "code",
   "execution_count": null,
   "id": "b85bb56a",
   "metadata": {},
   "outputs": [],
   "source": [
    "import mlflow"
   ]
  },
  {
   "cell_type": "code",
   "execution_count": null,
   "id": "19b53cf8",
   "metadata": {},
   "outputs": [],
   "source": [
    "mlflow.set_tracking_uri('http://127.0.0.1:5000')\n"
   ]
  },
  {
   "cell_type": "code",
   "execution_count": null,
   "id": "158ef2de",
   "metadata": {},
   "outputs": [],
   "source": [
    "#Get the mlflow ui from command prompt mlflow ui\n",
    "#coding for mlflow\n",
    "\n",
    "models={\n",
    "    'LinearRegression': LinearRegression(),\n",
    "    'KNN': KNeighborsRegressor(n_neighbors=5),\n",
    "    'DecisionTree': DecisionTreeRegressor(random_state=42),\n",
    "    'RandomForest': RandomForestRegressor(random_state=42),\n",
    "    'XGBoost': XGBRegressor(random_state=42),\n",
    "    'LightGBM': LGBMRegressor(random_state=42),\n",
    "    'CatBoost': CatBoostRegressor(verbose=0,random_state=42)\n",
    "    }"
   ]
  },
  {
   "cell_type": "code",
   "execution_count": null,
   "id": "1c5ef456",
   "metadata": {},
   "outputs": [],
   "source": [
    "mlflow.set_experiment('MED_INSURANCE_CHARGES_PREDICTION')\n",
    "for model_name, model in models.items():\n",
    "    with mlflow.start_run():\n",
    "        model.fit(x_train_scaled,y_train)\n",
    "        y_pred=model.predict(x_test_scaled)\n",
    "\n",
    "        r2=r2_score(y_test,y_pred)\n",
    "        mse=mean_squared_error(y_test,y_pred)\n",
    "        rmse=sqrt(mse)\n",
    "\n",
    "        mlflow.log_param('model', model_name)\n",
    "        mlflow.log_metric('r2_score',r2)\n",
    "        mlflow.log_metric('mse',mse)\n",
    "        mlflow.log_metric('rmse',rmse)\n",
    "\n",
    "\n",
    "        input_example=x_test.iloc[0].values.reshape(1,-2)\n",
    "        mlflow.sklearn.log_model(model,model_name, input_example=input_example)\n",
    "\n",
    "        print(f\"Logged {model_name} with r2: {r2}\")\n",
    "\n",
    "print(\"All pre-trained models have been logged to mlflow\")"
   ]
  },
  {
   "cell_type": "code",
   "execution_count": null,
   "id": "931e6f5b",
   "metadata": {},
   "outputs": [],
   "source": [
    "%%writefile medins_chargepred.py\n",
    "\n",
    "import streamlit as st\n",
    "import pandas as pd\n",
    "import seaborn as sns\n",
    "import matplotlib.pyplot as plt\n",
    "\n",
    "# Load dataset\n",
    "df=pd.read_csv('D:\\GUVI2\\Data\\medical_insurance.csv')\n",
    "\n",
    "# Set page configuration\n",
    "st.set_page_config(page_title='Medical Insurance Charges Prediction', layout='wide')\n",
    "\n",
    "# Sidebar Navigation\n",
    "st.sidebar.title('Navigation')\n",
    "page = st.sidebar.radio('Go to', ['Project Introduction', 'Data Overview', 'Exploratory Data Analysis', 'Insurance Estimator'])\n",
    "\n",
    "# Project Introduction Page\n",
    "# Project Introduction Page\n",
    "if page == 'Project Introduction':\n",
    "    st.markdown(\"\"\"\n",
    "    # Medical Insurance Charge Prediction\n",
    "    \n",
    "    ## Project Overview\n",
    "    This project is designed to predict **medical insurance charges** based on a set of key demographic and health-related features such as **age**, **gender**, **BMI**, **smoking status**, and more. The goal is to provide predictive models that can assist healthcare providers, individuals, and organizations in better understanding and planning for future healthcare expenses.\n",
    "\n",
    "    ## Business Use Cases\n",
    "    - **Insurance Premium Estimation**: Estimate premiums based on individual attributes.\n",
    "    - **Healthcare Cost Planning**: Provide individuals with more transparency regarding their expected healthcare costs.\n",
    "    - **Cost Comparison for Insurance Policies**: Allow individuals to compare the potential cost of different insurance plans based on their personal profile.\n",
    "    - **Healthcare Resource Allocation**: Assist organizations in allocating resources efficiently by understanding the cost dynamics associated with different demographic groups.\n",
    "\n",
    "    ## Model Pipeline\n",
    "    The project follows a systematic approach for building the prediction model:\n",
    "    \n",
    "    1. **Data Preprocessing**: Ensuring the dataset is clean and ready for model training.\n",
    "    2. **Feature Engineering**: Identifying and creating the most relevant features for prediction.\n",
    "    3. **Model Training and Evaluation**: Training machine learning models and evaluating their accuracy.\n",
    "    4. **Deployment**: Making the final model accessible through a web interface built with **Streamlit**.\n",
    "    \n",
    "    ## Expected Outcomes\n",
    "    The primary objective of this project is to offer actionable insights into healthcare expenses. By leveraging **predictive analytics**, the model empowers individuals and organizations to estimate and plan for insurance costs more effectively.\n",
    "    \"\"\")\n",
    "\n",
    "\n",
    "# Data Overview Page\n",
    "# Data Overview Page\n",
    "elif page == 'Data Overview':\n",
    "    st.markdown(\"\"\"\n",
    "    # Dataset Overview\n",
    "    \n",
    "    The dataset comprises several key attributes that contribute to predicting **medical insurance charges**. Below is a detailed breakdown of the core features:\n",
    "\n",
    "    ## Key Features:\n",
    "    - **Age**: The individual's age in years.\n",
    "    - **Sex**: Gender of the individual (male or female).\n",
    "    - **BMI**: Body Mass Index, a measure of body fat based on height and weight.\n",
    "    - **Children**: The number of children/dependents covered under the insurance.\n",
    "    - **Smoker**: Whether the individual is a smoker (yes or no).\n",
    "    - **Region**: The geographical region in which the individual resides (northeast, northwest, southeast, southwest).\n",
    "    - **Charges**: The target variable representing the medical insurance charges.\n",
    "\n",
    "    ## Data Insights\n",
    "    The dataset enables the exploration of the following insights:\n",
    "    - **Charge Distribution**: Understanding how medical insurance charges are distributed across different demographic factors.\n",
    "    - **Impact of Health Factors**: Exploring how attributes like **BMI** and **smoking status** influence the medical charges.\n",
    "    - **Geographic Trends**: Assessing how the region or location of an individual affects their medical insurance premiums.\n",
    "    \n",
    "    The dataset provides valuable information for building a robust predictive model that can help in **estimating medical insurance charges** accurately based on the individual's characteristics.\n",
    "\n",
    "    ## Next Steps\n",
    "    We will dive into an **exploratory data analysis (EDA)** to uncover hidden patterns and relationships between the features and the target variable. This step will guide us in **modeling** and **feature selection**.\n",
    "    \"\"\")\n",
    "    st.dataframe(df)\n",
    "\n",
    "\n",
    "# Exploratory Data Analysis Page\n",
    "elif page == 'Exploratory Data Analysis':\n",
    "    st.title('Exploratory Data Analysis (EDA)')\n",
    "\n",
    "    analysis_type = st.selectbox(\n",
    "        'Select type of analysis:',\n",
    "        ['Univariate Analysis', 'Bivariate Analysis', 'Multivariate Analysis', 'Outlier Detection', 'Correlation Analysis']\n",
    "    )\n",
    "\n",
    "    if analysis_type == 'Univariate Analysis':\n",
    "        st.subheader('Univariate Analysis')\n",
    "        question = st.selectbox('Choose a question:', [\n",
    "            '1. Distribution of Medical Insurance Charges',\n",
    "            '2. Age Distribution of individuals',\n",
    "            '3. Smokers vs Non-Smokers',\n",
    "            '4. Average BMI',\n",
    "            '5. Policyholders by Region'\n",
    "        ])\n",
    "        if question.startswith('1'):\n",
    "            st.subheader('1. What is the distribution of medical insurance charges?')\n",
    "            plt.title('Charges Histplot')\n",
    "            sns.histplot(x='charges', data=df)\n",
    "            st.pyplot()\n",
    "        elif question.startswith('2'):\n",
    "            st.subheader('2.What is the age distribution of the individuals?')\n",
    "            plt.title('Age Histplot')\n",
    "            sns.histplot(x='age', data=df)\n",
    "            st.pyplot()\n",
    "        elif question.startswith('3'):\n",
    "            st.subheader('3.How many people are smokers vs non-smokers?')\n",
    "            sns.countplot(x='smoker', data=df)\n",
    "            plt.title('Smokers v/s Non-Smokers')\n",
    "            st.pyplot()\n",
    "        elif question.startswith('4'):\n",
    "            st.subheader('4. What is the average BMI in the dataset?')\n",
    "            plt.title('BMI Histogram')\n",
    "            sns.histplot(x='bmi', data=df)\n",
    "            st.pyplot()\n",
    "        elif question.startswith('5'):\n",
    "            st.subheader('5. Which regions have the most number of policyholders?')\n",
    "            sns.countplot(x='region', data=df)\n",
    "            plt.title('Region with Most Number Of Policyholders')\n",
    "            st.pyplot()\n",
    "\n",
    "    elif analysis_type == 'Bivariate Analysis':\n",
    "        question = st.selectbox('Choose a question:', [\n",
    "            '1. How do charges vary with age?',\n",
    "            '2. Is there a difference in average charges between smokers and non-smokers?',\n",
    "            '3. Does BMI impact insurance charges?',\n",
    "            '4. Do men or women pay more on average?',\n",
    "            '5. Is there a correlation between the number of children and the insurance charges?'\n",
    "        ])\n",
    "        if question.startswith('1'):\n",
    "            st.subheader('1. How do charges vary with age?')\n",
    "            sns.scatterplot(x='age', y='charges', data=df)\n",
    "            plt.title('Charges v/s Age')\n",
    "            st.pyplot()\n",
    "        elif question.startswith('2'):\n",
    "            st.subheader('2. Is there a difference in average charges between smokers and non-smokers?')\n",
    "            sns.barplot(x='smoker', y='charges', data=df)\n",
    "            st.pyplot()\n",
    "        elif question.startswith('3'):\n",
    "            st.subheader('3. Does BMI impact insurance charges?')\n",
    "            sns.scatterplot(x='bmi', y='charges', data=df)\n",
    "            st.pyplot()\n",
    "        elif question.startswith('4'):\n",
    "            st.subheader('4. Do men or women pay more on average?')\n",
    "            sns.barplot(x='sex', y='charges', data=df)\n",
    "            st.pyplot()\n",
    "        elif question.startswith('5'):\n",
    "            st.subheader('5. Is there a correlation between the number of children and the insurance charges?')\n",
    "            sns.boxplot(x='children', y='charges', data=df)\n",
    "            st.pyplot()\n",
    "\n",
    "    elif analysis_type == 'Multivariate Analysis':\n",
    "        question = st.selectbox('Choose a question:', [\n",
    "            '1. How does smoking status combined with age affect medical charges?',\n",
    "            '2. What is the impact of gender and region on charges for smokers?',\n",
    "            '3. How do age, BMI, and smoking status together affect insurance cost?',\n",
    "            '4. Do obese smokers (BMI > 30) pay significantly higher than non-obese non-smokers?'\n",
    "        ])\n",
    "        if question.startswith('1'):\n",
    "            st.subheader('1. How does smoking status combined with age affect medical charges?')\n",
    "            sns.scatterplot(x='age', y='charges', hue='smoker', data=df, palette='pastel')\n",
    "            st.pyplot()\n",
    "        elif question.startswith('2'):\n",
    "            st.subheader('2. What is the impact of gender and region on charges for smokers?')\n",
    "            g = sns.FacetGrid(df[df['smoker'] == 'yes'], row='sex', col='region')\n",
    "            g.map_dataframe(sns.boxplot, x='sex', y='charges')\n",
    "            st.pyplot()\n",
    "        elif question.startswith('3'):\n",
    "            st.subheader('3. How do age, BMI, and smoking status together affect insurance cost?')\n",
    "            sns.scatterplot(x='bmi', y='charges', hue='smoker', data=df)\n",
    "            st.pyplot()\n",
    "        elif question.startswith('4'):\n",
    "            st.subheader('4. Do obese smokers (BMI > 30) pay significantly higher than non-obese non-smokers?')\n",
    "            df2 = df.copy()\n",
    "            df2['obese'] = df2['bmi'] > 30\n",
    "            df2['group'] = df2['obese'].astype(str) + '_' + df2['smoker']\n",
    "            sns.boxplot(x='group', y='charges', data=df2)\n",
    "            plt.xlabel('BMI > 30 & Smoker')\n",
    "            st.pyplot()\n",
    "\n",
    "    elif analysis_type == 'Outlier Detection':\n",
    "        question = st.selectbox('Choose a question:', [\n",
    "            '1. Are there outliers in the charges column? Who are the individuals paying the highest costs?',\n",
    "            '2. Are there extreme BMI values that could skew predictions?'\n",
    "        ])\n",
    "        if question.startswith('1'):\n",
    "            st.subheader('1. Are there outliers in the charges column? Who are the individuals paying the highest costs?')\n",
    "            sns.boxplot(y='charges', data=df)\n",
    "            st.pyplot()\n",
    "        elif question.startswith('2'):\n",
    "            st.subheader('2. Are there extreme BMI values that could skew predictions?')\n",
    "            sns.boxplot(y='bmi', data=df)\n",
    "            st.pyplot()\n",
    "\n",
    "    elif analysis_type == 'Correlation Analysis':\n",
    "        question = st.selectbox('Choose a question:', [\n",
    "            '1. What is the correlation between numeric features like age, BMI, number of children, and charges?',\n",
    "            '2. Which features have the strongest correlation with the target variable (charges)?'\n",
    "        ])\n",
    "        if question.startswith('1'):\n",
    "            st.subheader('1. What is the correlation between numeric features like age, BMI, number of children, and charges?')\n",
    "            plt.figure(figsize=(10, 6))\n",
    "            sns.heatmap(df.corr(numeric_only=True), annot=True, cmap='coolwarm', fmt='.2f')\n",
    "            plt.title('Heatmap of Feature Correlation')\n",
    "            st.pyplot()\n",
    "        elif question.startswith('2'):\n",
    "            st.subheader('2. Which features have the strongest correlation with the target variable (charges)?')\n",
    "            corr_matrix = df.corr(numeric_only=True)\n",
    "            st.dataframe(corr_matrix['charges'].sort_values(ascending=False))\n",
    "elif page == 'Insurance Estimator':\n",
    "    st.title(\"Insurance Cost Estimator\")\n",
    "    import joblib\n",
    "    model=joblib.load('insurance_rf_model.pkl')\n",
    "\n",
    "    with st.form(\"estiator_form\"):\n",
    "        age=st.slider(\"Age\",18,100,30)\n",
    "        sex=st.selectbox(\"sex\",['male','female'])\n",
    "        bmi=st.number_input(\"BMI\",10.0,50.0,25.0)\n",
    "        children=st.slider(\"Number of children\", 0,5,0)\n",
    "        smoker=st.selectbox(\"Smoker\",['yes','no'])\n",
    "        region=st.selectbox(\"Region\",['northeast','northwest','southeast','southwest'])\n",
    "\n",
    "\n",
    "        submitted=st.form_submit_button(\"Estimate Charges\")\n",
    "        if submitted:\n",
    "            sex=1 if sex=='male' else 0\n",
    "            smoker=1 if smoker=='yes' else 0\n",
    "            region_northeast= 1 if region=='northeast' else 0\n",
    "            region_northwest= 1 if region=='northwest' else 0\n",
    "            region_southeast= 1 if region=='southeast' else 0\n",
    "        \n",
    "        \n",
    "            input_data=[[\n",
    "                age,sex,bmi,children,smoker, region_northeast,region_northwest,region_southeast\n",
    "            ]]\n",
    "            predicted_charge=model.predict(input_data)[0]\n",
    "            st.success(f\"Estimated Medical Insurance Charge: **${predicted_charge:,.2f}**\")\n"
   ]
  },
  {
   "cell_type": "code",
   "execution_count": null,
   "id": "d3fa2aa6",
   "metadata": {},
   "outputs": [],
   "source": [
    "!streamlit run medins_chargepred.py"
   ]
  },
  {
   "cell_type": "code",
   "execution_count": null,
   "id": "da5785b0",
   "metadata": {},
   "outputs": [],
   "source": []
  }
 ],
 "metadata": {
  "kernelspec": {
   "display_name": "Python 3",
   "language": "python",
   "name": "python3"
  },
  "language_info": {
   "codemirror_mode": {
    "name": "ipython",
    "version": 3
   },
   "file_extension": ".py",
   "mimetype": "text/x-python",
   "name": "python",
   "nbconvert_exporter": "python",
   "pygments_lexer": "ipython3",
   "version": "3.11.3"
  }
 },
 "nbformat": 4,
 "nbformat_minor": 5
}
